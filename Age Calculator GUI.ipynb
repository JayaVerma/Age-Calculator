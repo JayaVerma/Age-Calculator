{
 "cells": [
  {
   "cell_type": "code",
   "execution_count": 1,
   "metadata": {},
   "outputs": [],
   "source": [
    "from tkinter import *\n",
    "from datetime import date"
   ]
  },
  {
   "cell_type": "code",
   "execution_count": 2,
   "metadata": {},
   "outputs": [
    {
     "data": {
      "text/plain": [
       "''"
      ]
     },
     "execution_count": 2,
     "metadata": {},
     "output_type": "execute_result"
    }
   ],
   "source": [
    "root = Tk()\n",
    "root.geometry(\"700x500\")\n",
    "root.title(\"Age Calculator\")"
   ]
  },
  {
   "cell_type": "code",
   "execution_count": 3,
   "metadata": {},
   "outputs": [],
   "source": [
    "def calculateAge():\n",
    "    today = date.today()\n",
    "    birthDate = date(int(yearEntry.get()), int(monthEntry.get()), int(dayEntry.get()))\n",
    "    age = today.year - birthDate.year - ((today.month,today.day)<(birthDate.month,birthDate.day))\n",
    "    Label(text=f\"{nameValue.get()} your age is {age}\",font=font_format).grid(row=6, column=1)\n",
    "    "
   ]
  },
  {
   "cell_type": "code",
   "execution_count": 4,
   "metadata": {},
   "outputs": [],
   "source": [
    "mainlabel = Label(root, text=\"Age Calculator\", font=(\"Helvetica\",15,\"bold\"))\n",
    "mainlabel.grid(row=0,column=1,columnspan=2)\n",
    "\n",
    "font_format=(\"Helvetica\",10,\"bold italic\")"
   ]
  },
  {
   "cell_type": "code",
   "execution_count": 5,
   "metadata": {},
   "outputs": [],
   "source": [
    "Label(text=\"Name :\",font=font_format).grid(row=1,column=0,padx=90,pady=10)\n",
    "Label(text=\"Year :\",font=font_format).grid(row=2,column=0,padx=90,pady=10)\n",
    "Label(text=\"Month :\",font=font_format).grid(row=3,column=0,padx=90,pady=10)\n",
    "Label(text=\"Day :\",font=font_format).grid(row=4,column=0,padx=90,pady=10)"
   ]
  },
  {
   "cell_type": "code",
   "execution_count": 6,
   "metadata": {},
   "outputs": [],
   "source": [
    "nameValue = StringVar()\n",
    "yearValue = StringVar()\n",
    "monthValue = StringVar()\n",
    "dayValue = StringVar()"
   ]
  },
  {
   "cell_type": "code",
   "execution_count": 7,
   "metadata": {},
   "outputs": [],
   "source": [
    "nameEntry = Entry(root, textvariable=nameValue, font=font_format)\n",
    "yearEntry = Entry(root, textvariable=yearValue, font=font_format)\n",
    "monthEntry = Entry(root, textvariable=monthValue, font=font_format)\n",
    "dayEntry = Entry(root, textvariable=dayValue, font=font_format)"
   ]
  },
  {
   "cell_type": "code",
   "execution_count": 8,
   "metadata": {},
   "outputs": [],
   "source": [
    "nameEntry.grid(row=1,column=1,padx=90,pady=10,ipadx=20,ipady=3)\n",
    "yearEntry.grid(row=2,column=1,padx=90,pady=10,ipadx=20,ipady=3)\n",
    "monthEntry.grid(row=3,column=1,padx=90,pady=10,ipadx=20,ipady=3)\n",
    "dayEntry.grid(row=4,column=1,padx=90,pady=10,ipadx=20,ipady=3)"
   ]
  },
  {
   "cell_type": "code",
   "execution_count": 9,
   "metadata": {},
   "outputs": [],
   "source": [
    "Button(text=\"Calculate Age\",font=font_format, command=calculateAge).grid(row=5,column=1,padx=90,pady=10)"
   ]
  },
  {
   "cell_type": "code",
   "execution_count": 10,
   "metadata": {},
   "outputs": [],
   "source": [
    "root.mainloop()"
   ]
  },
  {
   "cell_type": "code",
   "execution_count": null,
   "metadata": {},
   "outputs": [],
   "source": []
  }
 ],
 "metadata": {
  "kernelspec": {
   "display_name": "Python 3",
   "language": "python",
   "name": "python3"
  },
  "language_info": {
   "codemirror_mode": {
    "name": "ipython",
    "version": 3
   },
   "file_extension": ".py",
   "mimetype": "text/x-python",
   "name": "python",
   "nbconvert_exporter": "python",
   "pygments_lexer": "ipython3",
   "version": "3.8.5"
  }
 },
 "nbformat": 4,
 "nbformat_minor": 4
}
